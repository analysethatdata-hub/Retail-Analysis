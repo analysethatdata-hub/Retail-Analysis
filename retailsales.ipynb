{
 "cells": [
  {
   "cell_type": "markdown",
   "id": "4d6e3fb6-d9fd-48d0-8c79-05ab09959c9f",
   "metadata": {},
   "source": [
    "## 1.Importing different libraries"
   ]
  },
  {
   "cell_type": "code",
   "execution_count": 1,
   "id": "0a88c106-9a6a-4c08-9672-5fbc13695aa0",
   "metadata": {},
   "outputs": [],
   "source": [
    "import pandas as pd\n",
    "import numpy as np\n",
    "import seaborn as sns\n",
    "import matplotlib.pyplot as plt"
   ]
  },
  {
   "cell_type": "code",
   "execution_count": 1,
   "id": "afcd86e3",
   "metadata": {},
   "outputs": [],
   "source": [
    "import pandas as pd\n",
    "import numpy as np\n",
    "import seaborn as sns\n",
    "import matplotlib.pyplot as plt"
   ]
  },
  {
   "cell_type": "markdown",
   "id": "113b66ae-cbc5-4b3c-bab4-ec1056c2881e",
   "metadata": {},
   "source": [
    "## 2. Retrieve the data"
   ]
  },
  {
   "cell_type": "code",
   "execution_count": 2,
   "id": "805e2097-8ac7-47ba-86db-b2cb67ec3fee",
   "metadata": {},
   "outputs": [],
   "source": [
    "df=pd.read_csv('SQL - Retail Sales Analysis_utf .csv')"
   ]
  },
  {
   "cell_type": "markdown",
   "id": "1bd64177-e2c3-4fb7-8043-125fbaa064e1",
   "metadata": {},
   "source": [
    "## 3. Data Preprocessing"
   ]
  },
  {
   "cell_type": "code",
   "execution_count": 3,
   "id": "74a0739a-66a2-42ce-a76f-0bb4c05aeea5",
   "metadata": {},
   "outputs": [
    {
     "data": {
      "text/html": [
       "<div>\n",
       "<style scoped>\n",
       "    .dataframe tbody tr th:only-of-type {\n",
       "        vertical-align: middle;\n",
       "    }\n",
       "\n",
       "    .dataframe tbody tr th {\n",
       "        vertical-align: top;\n",
       "    }\n",
       "\n",
       "    .dataframe thead th {\n",
       "        text-align: right;\n",
       "    }\n",
       "</style>\n",
       "<table border=\"1\" class=\"dataframe\">\n",
       "  <thead>\n",
       "    <tr style=\"text-align: right;\">\n",
       "      <th></th>\n",
       "      <th>transactions_id</th>\n",
       "      <th>sale_date</th>\n",
       "      <th>sale_time</th>\n",
       "      <th>customer_id</th>\n",
       "      <th>gender</th>\n",
       "      <th>age</th>\n",
       "      <th>category</th>\n",
       "      <th>quantiy</th>\n",
       "      <th>price_per_unit</th>\n",
       "      <th>cogs</th>\n",
       "      <th>total_sale</th>\n",
       "    </tr>\n",
       "  </thead>\n",
       "  <tbody>\n",
       "    <tr>\n",
       "      <th>0</th>\n",
       "      <td>180</td>\n",
       "      <td>2022-11-05</td>\n",
       "      <td>10:47:00</td>\n",
       "      <td>117</td>\n",
       "      <td>Male</td>\n",
       "      <td>41.0</td>\n",
       "      <td>Clothing</td>\n",
       "      <td>3.0</td>\n",
       "      <td>300.0</td>\n",
       "      <td>129.0</td>\n",
       "      <td>900.0</td>\n",
       "    </tr>\n",
       "    <tr>\n",
       "      <th>1</th>\n",
       "      <td>522</td>\n",
       "      <td>2022-07-09</td>\n",
       "      <td>11:00:00</td>\n",
       "      <td>52</td>\n",
       "      <td>Male</td>\n",
       "      <td>46.0</td>\n",
       "      <td>Beauty</td>\n",
       "      <td>3.0</td>\n",
       "      <td>500.0</td>\n",
       "      <td>145.0</td>\n",
       "      <td>1500.0</td>\n",
       "    </tr>\n",
       "    <tr>\n",
       "      <th>2</th>\n",
       "      <td>559</td>\n",
       "      <td>2022-12-12</td>\n",
       "      <td>10:48:00</td>\n",
       "      <td>5</td>\n",
       "      <td>Female</td>\n",
       "      <td>40.0</td>\n",
       "      <td>Clothing</td>\n",
       "      <td>4.0</td>\n",
       "      <td>300.0</td>\n",
       "      <td>84.0</td>\n",
       "      <td>1200.0</td>\n",
       "    </tr>\n",
       "    <tr>\n",
       "      <th>3</th>\n",
       "      <td>1180</td>\n",
       "      <td>2022-01-06</td>\n",
       "      <td>08:53:00</td>\n",
       "      <td>85</td>\n",
       "      <td>Male</td>\n",
       "      <td>41.0</td>\n",
       "      <td>Clothing</td>\n",
       "      <td>3.0</td>\n",
       "      <td>300.0</td>\n",
       "      <td>129.0</td>\n",
       "      <td>900.0</td>\n",
       "    </tr>\n",
       "    <tr>\n",
       "      <th>4</th>\n",
       "      <td>1522</td>\n",
       "      <td>2022-11-14</td>\n",
       "      <td>08:35:00</td>\n",
       "      <td>48</td>\n",
       "      <td>Male</td>\n",
       "      <td>46.0</td>\n",
       "      <td>Beauty</td>\n",
       "      <td>3.0</td>\n",
       "      <td>500.0</td>\n",
       "      <td>235.0</td>\n",
       "      <td>1500.0</td>\n",
       "    </tr>\n",
       "  </tbody>\n",
       "</table>\n",
       "</div>"
      ],
      "text/plain": [
       "   transactions_id   sale_date sale_time  customer_id  gender   age  category  \\\n",
       "0              180  2022-11-05  10:47:00          117    Male  41.0  Clothing   \n",
       "1              522  2022-07-09  11:00:00           52    Male  46.0    Beauty   \n",
       "2              559  2022-12-12  10:48:00            5  Female  40.0  Clothing   \n",
       "3             1180  2022-01-06  08:53:00           85    Male  41.0  Clothing   \n",
       "4             1522  2022-11-14  08:35:00           48    Male  46.0    Beauty   \n",
       "\n",
       "   quantiy  price_per_unit   cogs  total_sale  \n",
       "0      3.0           300.0  129.0       900.0  \n",
       "1      3.0           500.0  145.0      1500.0  \n",
       "2      4.0           300.0   84.0      1200.0  \n",
       "3      3.0           300.0  129.0       900.0  \n",
       "4      3.0           500.0  235.0      1500.0  "
      ]
     },
     "execution_count": 3,
     "metadata": {},
     "output_type": "execute_result"
    }
   ],
   "source": [
    "df.head()"
   ]
  },
  {
   "cell_type": "code",
   "execution_count": 4,
   "id": "093346dc-37b2-4181-820e-85711b79d900",
   "metadata": {},
   "outputs": [
    {
     "data": {
      "text/html": [
       "<div>\n",
       "<style scoped>\n",
       "    .dataframe tbody tr th:only-of-type {\n",
       "        vertical-align: middle;\n",
       "    }\n",
       "\n",
       "    .dataframe tbody tr th {\n",
       "        vertical-align: top;\n",
       "    }\n",
       "\n",
       "    .dataframe thead th {\n",
       "        text-align: right;\n",
       "    }\n",
       "</style>\n",
       "<table border=\"1\" class=\"dataframe\">\n",
       "  <thead>\n",
       "    <tr style=\"text-align: right;\">\n",
       "      <th></th>\n",
       "      <th>transactions_id</th>\n",
       "      <th>sale_date</th>\n",
       "      <th>sale_time</th>\n",
       "      <th>customer_id</th>\n",
       "      <th>gender</th>\n",
       "      <th>age</th>\n",
       "      <th>category</th>\n",
       "      <th>quantiy</th>\n",
       "      <th>price_per_unit</th>\n",
       "      <th>cogs</th>\n",
       "      <th>total_sale</th>\n",
       "    </tr>\n",
       "  </thead>\n",
       "  <tbody>\n",
       "    <tr>\n",
       "      <th>1995</th>\n",
       "      <td>1857</td>\n",
       "      <td>2022-11-09</td>\n",
       "      <td>12:15:00</td>\n",
       "      <td>109</td>\n",
       "      <td>Male</td>\n",
       "      <td>60.0</td>\n",
       "      <td>Electronics</td>\n",
       "      <td>2.0</td>\n",
       "      <td>25.0</td>\n",
       "      <td>7.5</td>\n",
       "      <td>50.0</td>\n",
       "    </tr>\n",
       "    <tr>\n",
       "      <th>1996</th>\n",
       "      <td>211</td>\n",
       "      <td>2022-09-12</td>\n",
       "      <td>14:02:00</td>\n",
       "      <td>54</td>\n",
       "      <td>Male</td>\n",
       "      <td>42.0</td>\n",
       "      <td>Beauty</td>\n",
       "      <td>3.0</td>\n",
       "      <td>500.0</td>\n",
       "      <td>235.0</td>\n",
       "      <td>1500.0</td>\n",
       "    </tr>\n",
       "    <tr>\n",
       "      <th>1997</th>\n",
       "      <td>650</td>\n",
       "      <td>2023-10-08</td>\n",
       "      <td>12:41:00</td>\n",
       "      <td>98</td>\n",
       "      <td>Male</td>\n",
       "      <td>55.0</td>\n",
       "      <td>Electronics</td>\n",
       "      <td>1.0</td>\n",
       "      <td>30.0</td>\n",
       "      <td>15.0</td>\n",
       "      <td>30.0</td>\n",
       "    </tr>\n",
       "    <tr>\n",
       "      <th>1998</th>\n",
       "      <td>1211</td>\n",
       "      <td>2023-11-22</td>\n",
       "      <td>14:59:00</td>\n",
       "      <td>82</td>\n",
       "      <td>Male</td>\n",
       "      <td>42.0</td>\n",
       "      <td>Beauty</td>\n",
       "      <td>3.0</td>\n",
       "      <td>500.0</td>\n",
       "      <td>235.0</td>\n",
       "      <td>1500.0</td>\n",
       "    </tr>\n",
       "    <tr>\n",
       "      <th>1999</th>\n",
       "      <td>1650</td>\n",
       "      <td>2022-09-23</td>\n",
       "      <td>16:24:00</td>\n",
       "      <td>89</td>\n",
       "      <td>Male</td>\n",
       "      <td>55.0</td>\n",
       "      <td>Electronics</td>\n",
       "      <td>1.0</td>\n",
       "      <td>30.0</td>\n",
       "      <td>10.8</td>\n",
       "      <td>30.0</td>\n",
       "    </tr>\n",
       "  </tbody>\n",
       "</table>\n",
       "</div>"
      ],
      "text/plain": [
       "      transactions_id   sale_date sale_time  customer_id gender   age  \\\n",
       "1995             1857  2022-11-09  12:15:00          109   Male  60.0   \n",
       "1996              211  2022-09-12  14:02:00           54   Male  42.0   \n",
       "1997              650  2023-10-08  12:41:00           98   Male  55.0   \n",
       "1998             1211  2023-11-22  14:59:00           82   Male  42.0   \n",
       "1999             1650  2022-09-23  16:24:00           89   Male  55.0   \n",
       "\n",
       "         category  quantiy  price_per_unit   cogs  total_sale  \n",
       "1995  Electronics      2.0            25.0    7.5        50.0  \n",
       "1996       Beauty      3.0           500.0  235.0      1500.0  \n",
       "1997  Electronics      1.0            30.0   15.0        30.0  \n",
       "1998       Beauty      3.0           500.0  235.0      1500.0  \n",
       "1999  Electronics      1.0            30.0   10.8        30.0  "
      ]
     },
     "execution_count": 4,
     "metadata": {},
     "output_type": "execute_result"
    }
   ],
   "source": [
    "df.tail()"
   ]
  },
  {
   "cell_type": "code",
   "execution_count": 5,
   "id": "e26f8b28-d727-4e25-951c-fcdc19069474",
   "metadata": {},
   "outputs": [
    {
     "name": "stdout",
     "output_type": "stream",
     "text": [
      "<class 'pandas.core.frame.DataFrame'>\n",
      "RangeIndex: 2000 entries, 0 to 1999\n",
      "Data columns (total 11 columns):\n",
      " #   Column           Non-Null Count  Dtype  \n",
      "---  ------           --------------  -----  \n",
      " 0   transactions_id  2000 non-null   int64  \n",
      " 1   sale_date        2000 non-null   object \n",
      " 2   sale_time        2000 non-null   object \n",
      " 3   customer_id      2000 non-null   int64  \n",
      " 4   gender           2000 non-null   object \n",
      " 5   age              1990 non-null   float64\n",
      " 6   category         2000 non-null   object \n",
      " 7   quantiy          1997 non-null   float64\n",
      " 8   price_per_unit   1997 non-null   float64\n",
      " 9   cogs             1997 non-null   float64\n",
      " 10  total_sale       1997 non-null   float64\n",
      "dtypes: float64(5), int64(2), object(4)\n",
      "memory usage: 172.0+ KB\n"
     ]
    }
   ],
   "source": [
    "df.info()"
   ]
  },
  {
   "cell_type": "markdown",
   "id": "acfe4bf5-ec03-48f2-af0d-06b06e91c921",
   "metadata": {},
   "source": [
    "### 3.1 *Handling Null Values*"
   ]
  },
  {
   "cell_type": "code",
   "execution_count": 6,
   "id": "be4135d6-cbee-4faa-8bbe-e029c061beae",
   "metadata": {},
   "outputs": [
    {
     "data": {
      "text/plain": [
       "transactions_id     0\n",
       "sale_date           0\n",
       "sale_time           0\n",
       "customer_id         0\n",
       "gender              0\n",
       "age                10\n",
       "category            0\n",
       "quantiy             3\n",
       "price_per_unit      3\n",
       "cogs                3\n",
       "total_sale          3\n",
       "dtype: int64"
      ]
     },
     "execution_count": 6,
     "metadata": {},
     "output_type": "execute_result"
    }
   ],
   "source": [
    "df.isna().sum()"
   ]
  },
  {
   "cell_type": "code",
   "execution_count": 7,
   "id": "bfe63bf9-dc85-43d1-8f24-39446ad14e91",
   "metadata": {},
   "outputs": [
    {
     "data": {
      "image/png": "[encoded data removed]",
      "text/plain": [
       "<Figure size 640x480 with 2 Axes>"
      ]
     },
     "metadata": {},
     "output_type": "display_data"
    }
   ],
   "source": [
    "sns.heatmap(df.isna())\n",
    "plt.show()"
   ]
  },
  {
   "cell_type": "code",
   "execution_count": 8,
   "id": "1a163111-383f-4b8e-aad5-bf161d59af72",
   "metadata": {},
   "outputs": [],
   "source": [
    "df.dropna(inplace=True)"
   ]
  },
  {
   "cell_type": "code",
   "execution_count": 9,
   "id": "6a0bd233-9e1f-43ea-b286-27911cdf5a2b",
   "metadata": {},
   "outputs": [
    {
     "name": "stdout",
     "output_type": "stream",
     "text": [
      "<class 'pandas.core.frame.DataFrame'>\n",
      "Index: 1987 entries, 0 to 1999\n",
      "Data columns (total 11 columns):\n",
      " #   Column           Non-Null Count  Dtype  \n",
      "---  ------           --------------  -----  \n",
      " 0   transactions_id  1987 non-null   int64  \n",
      " 1   sale_date        1987 non-null   object \n",
      " 2   sale_time        1987 non-null   object \n",
      " 3   customer_id      1987 non-null   int64  \n",
      " 4   gender           1987 non-null   object \n",
      " 5   age              1987 non-null   float64\n",
      " 6   category         1987 non-null   object \n",
      " 7   quantiy          1987 non-null   float64\n",
      " 8   price_per_unit   1987 non-null   float64\n",
      " 9   cogs             1987 non-null   float64\n",
      " 10  total_sale       1987 non-null   float64\n",
      "dtypes: float64(5), int64(2), object(4)\n",
      "memory usage: 186.3+ KB\n"
     ]
    }
   ],
   "source": [
    "df.info()"
   ]
  },
  {
   "cell_type": "code",
   "execution_count": 10,
   "id": "9ff575a8-2b42-431c-97e6-bf0800f96354",
   "metadata": {},
   "outputs": [
    {
     "data": {
      "image/png": "[encoded data removed]",
      "text/plain": [
       "<Figure size 640x480 with 2 Axes>"
      ]
     },
     "metadata": {},
     "output_type": "display_data"
    }
   ],
   "source": [
    "sns.heatmap(df.isna())\n",
    "plt.show()"
   ]
  },
  {
   "cell_type": "markdown",
   "id": "3997714b-2a88-4b9c-9551-af89f801e528",
   "metadata": {},
   "source": [
    "### 3.2 *Check for duplicates*"
   ]
  },
  {
   "cell_type": "code",
   "execution_count": 14,
   "id": "f639f4a3-07ff-4264-b8d5-fd84210e5eec",
   "metadata": {},
   "outputs": [
    {
     "name": "stdout",
     "output_type": "stream",
     "text": [
      "Any duplicate values : False\n"
     ]
    }
   ],
   "source": [
    "print('Any duplicate values :',df.duplicated().any())"
   ]
  },
  {
   "cell_type": "markdown",
   "id": "9e36be9d-99b5-43a5-87fa-c107512d1234",
   "metadata": {},
   "source": [
    "### 3.3 ***Viewing the statistics of the numerical columns***"
   ]
  },
  {
   "cell_type": "code",
   "execution_count": 15,
   "id": "84b8c526-6144-4f84-8d2d-93a855ae891c",
   "metadata": {},
   "outputs": [
    {
     "data": {
      "text/html": [
       "<div>\n",
       "<style scoped>\n",
       "    .dataframe tbody tr th:only-of-type {\n",
       "        vertical-align: middle;\n",
       "    }\n",
       "\n",
       "    .dataframe tbody tr th {\n",
       "        vertical-align: top;\n",
       "    }\n",
       "\n",
       "    .dataframe thead th {\n",
       "        text-align: right;\n",
       "    }\n",
       "</style>\n",
       "<table border=\"1\" class=\"dataframe\">\n",
       "  <thead>\n",
       "    <tr style=\"text-align: right;\">\n",
       "      <th></th>\n",
       "      <th>transactions_id</th>\n",
       "      <th>customer_id</th>\n",
       "      <th>age</th>\n",
       "      <th>quantiy</th>\n",
       "      <th>price_per_unit</th>\n",
       "      <th>cogs</th>\n",
       "      <th>total_sale</th>\n",
       "    </tr>\n",
       "  </thead>\n",
       "  <tbody>\n",
       "    <tr>\n",
       "      <th>count</th>\n",
       "      <td>1987.000000</td>\n",
       "      <td>1987.000000</td>\n",
       "      <td>1987.000000</td>\n",
       "      <td>1987.00000</td>\n",
       "      <td>1987.000000</td>\n",
       "      <td>1987.000000</td>\n",
       "      <td>1987.000000</td>\n",
       "    </tr>\n",
       "    <tr>\n",
       "      <th>mean</th>\n",
       "      <td>1000.513337</td>\n",
       "      <td>66.284852</td>\n",
       "      <td>41.351283</td>\n",
       "      <td>2.51384</td>\n",
       "      <td>179.924509</td>\n",
       "      <td>95.081933</td>\n",
       "      <td>457.086059</td>\n",
       "    </tr>\n",
       "    <tr>\n",
       "      <th>std</th>\n",
       "      <td>578.274413</td>\n",
       "      <td>44.964430</td>\n",
       "      <td>13.662653</td>\n",
       "      <td>1.13277</td>\n",
       "      <td>189.441178</td>\n",
       "      <td>122.032280</td>\n",
       "      <td>560.862242</td>\n",
       "    </tr>\n",
       "    <tr>\n",
       "      <th>min</th>\n",
       "      <td>1.000000</td>\n",
       "      <td>1.000000</td>\n",
       "      <td>18.000000</td>\n",
       "      <td>1.00000</td>\n",
       "      <td>25.000000</td>\n",
       "      <td>6.250000</td>\n",
       "      <td>25.000000</td>\n",
       "    </tr>\n",
       "    <tr>\n",
       "      <th>25%</th>\n",
       "      <td>499.500000</td>\n",
       "      <td>24.000000</td>\n",
       "      <td>29.000000</td>\n",
       "      <td>1.00000</td>\n",
       "      <td>30.000000</td>\n",
       "      <td>13.000000</td>\n",
       "      <td>60.000000</td>\n",
       "    </tr>\n",
       "    <tr>\n",
       "      <th>50%</th>\n",
       "      <td>1001.000000</td>\n",
       "      <td>69.000000</td>\n",
       "      <td>42.000000</td>\n",
       "      <td>3.00000</td>\n",
       "      <td>50.000000</td>\n",
       "      <td>27.500000</td>\n",
       "      <td>150.000000</td>\n",
       "    </tr>\n",
       "    <tr>\n",
       "      <th>75%</th>\n",
       "      <td>1502.500000</td>\n",
       "      <td>102.000000</td>\n",
       "      <td>53.000000</td>\n",
       "      <td>4.00000</td>\n",
       "      <td>300.000000</td>\n",
       "      <td>147.000000</td>\n",
       "      <td>900.000000</td>\n",
       "    </tr>\n",
       "    <tr>\n",
       "      <th>max</th>\n",
       "      <td>2000.000000</td>\n",
       "      <td>155.000000</td>\n",
       "      <td>64.000000</td>\n",
       "      <td>4.00000</td>\n",
       "      <td>500.000000</td>\n",
       "      <td>620.000000</td>\n",
       "      <td>2000.000000</td>\n",
       "    </tr>\n",
       "  </tbody>\n",
       "</table>\n",
       "</div>"
      ],
      "text/plain": [
       "       transactions_id  customer_id          age     quantiy  price_per_unit  \\\n",
       "count      1987.000000  1987.000000  1987.000000  1987.00000     1987.000000   \n",
       "mean       1000.513337    66.284852    41.351283     2.51384      179.924509   \n",
       "std         578.274413    44.964430    13.662653     1.13277      189.441178   \n",
       "min           1.000000     1.000000    18.000000     1.00000       25.000000   \n",
       "25%         499.500000    24.000000    29.000000     1.00000       30.000000   \n",
       "50%        1001.000000    69.000000    42.000000     3.00000       50.000000   \n",
       "75%        1502.500000   102.000000    53.000000     4.00000      300.000000   \n",
       "max        2000.000000   155.000000    64.000000     4.00000      500.000000   \n",
       "\n",
       "              cogs   total_sale  \n",
       "count  1987.000000  1987.000000  \n",
       "mean     95.081933   457.086059  \n",
       "std     122.032280   560.862242  \n",
       "min       6.250000    25.000000  \n",
       "25%      13.000000    60.000000  \n",
       "50%      27.500000   150.000000  \n",
       "75%     147.000000   900.000000  \n",
       "max     620.000000  2000.000000  "
      ]
     },
     "execution_count": 15,
     "metadata": {},
     "output_type": "execute_result"
    }
   ],
   "source": [
    "df.describe()"
   ]
  },
  {
   "cell_type": "markdown",
   "id": "64cac604-ff5b-4dea-b14c-751a245c458d",
   "metadata": {},
   "source": [
    "### 3.4 ***Handling Categorical/Ordinal Data***"
   ]
  },
  {
   "cell_type": "code",
   "execution_count": 18,
   "id": "69029953-6ec0-42df-b0d2-2a1a425ad73e",
   "metadata": {},
   "outputs": [
    {
     "name": "stdout",
     "output_type": "stream",
     "text": [
      "Gender category : ['Male' 'Female']\n"
     ]
    }
   ],
   "source": [
    "print('Gender category :',df['gender'].unique())"
   ]
  },
  {
   "cell_type": "code",
   "execution_count": 19,
   "id": "7caf6ef0-347d-48e0-b15c-dcc9f91afa6e",
   "metadata": {},
   "outputs": [
    {
     "name": "stdout",
     "output_type": "stream",
     "text": [
      "Unique Customers : 155\n"
     ]
    }
   ],
   "source": [
    "print('Unique Customers :',df['customer_id'].nunique())"
   ]
  },
  {
   "cell_type": "code",
   "execution_count": 21,
   "id": "795e14dc-0ccd-401f-8901-6c42c34c5aa9",
   "metadata": {},
   "outputs": [
    {
     "name": "stdout",
     "output_type": "stream",
     "text": [
      "Unique Categories : ['Clothing' 'Beauty' 'Electronics']\n"
     ]
    }
   ],
   "source": [
    "print('Unique Categories :',df['category'].unique())"
   ]
  },
  {
   "cell_type": "code",
   "execution_count": 24,
   "id": "0147b9f8-3184-4d4f-885b-893b258f5821",
   "metadata": {},
   "outputs": [],
   "source": [
    "df['sale_date']=pd.to_datetime(df['sale_date'])"
   ]
  },
  {
   "cell_type": "code",
   "execution_count": 25,
   "id": "3eb1e446-ea21-4bec-a4fd-897d18e4b03b",
   "metadata": {},
   "outputs": [],
   "source": [
    "df['Year']=df['sale_date'].dt.year"
   ]
  },
  {
   "cell_type": "code",
   "execution_count": 26,
   "id": "5596191e-9df0-4b43-9e32-b59474e58d09",
   "metadata": {},
   "outputs": [],
   "source": [
    "df['Month']=df['sale_date'].dt.month"
   ]
  },
  {
   "cell_type": "markdown",
   "id": "756145fc-2dc5-4b48-91b6-885b8cd43950",
   "metadata": {},
   "source": [
    "## 4. *Data Exploration*"
   ]
  },
  {
   "cell_type": "code",
   "execution_count": 53,
   "id": "8837f51b-7106-4681-bdee-39438a5d76bd",
   "metadata": {},
   "outputs": [
    {
     "name": "stdout",
     "output_type": "stream",
     "text": [
      "Total Sales = 908230.0\n"
     ]
    }
   ],
   "source": [
    "print('Total Sales =',df['total_sale'].sum())"
   ]
  },
  {
   "cell_type": "code",
   "execution_count": 54,
   "id": "ececbfd6-081d-4f4e-949e-1785c79d086f",
   "metadata": {},
   "outputs": [
    {
     "name": "stdout",
     "output_type": "stream",
     "text": [
      "Total Cost of Sales = 188927.8\n"
     ]
    }
   ],
   "source": [
    "print('Total Cost of Sales =',df['cogs'].sum())"
   ]
  },
  {
   "cell_type": "markdown",
   "id": "438b36e1-bb2d-4db8-b5ea-8d4e66aab957",
   "metadata": {},
   "source": [
    "### *The total sales vs cost of goods sold reflects an unusually high profit margin.*"
   ]
  },
  {
   "cell_type": "code",
   "execution_count": 27,
   "id": "7ebf6a93-fc1e-4809-a4a9-754b4cffa8b6",
   "metadata": {},
   "outputs": [
    {
     "name": "stdout",
     "output_type": "stream",
     "text": [
      "Total Sales : Year\n",
      "2023    458895.0\n",
      "2022    449335.0\n",
      "Name: total_sale, dtype: float64\n"
     ]
    }
   ],
   "source": [
    "print('Total Sales :',df.groupby('Year')['total_sale'].sum().sort_values(ascending=False))"
   ]
  },
  {
   "cell_type": "code",
   "execution_count": 28,
   "id": "d0fa3871-d9e5-4490-9290-8c209b767627",
   "metadata": {},
   "outputs": [
    {
     "name": "stdout",
     "output_type": "stream",
     "text": [
      "Total Cost of Goods Sold Year\n",
      "2022    95174.5\n",
      "2023    93753.3\n",
      "Name: cogs, dtype: float64\n"
     ]
    }
   ],
   "source": [
    "print('Total Cost of Goods Sold',df.groupby('Year')['cogs'].sum().sort_values(ascending=False))"
   ]
  },
  {
   "cell_type": "code",
   "execution_count": 29,
   "id": "29cf5596-b077-4e34-bb9f-04c4be831856",
   "metadata": {},
   "outputs": [
    {
     "name": "stdout",
     "output_type": "stream",
     "text": [
      "Gross Profit = Year\n",
      "2022    354160.5\n",
      "2023    365141.7\n",
      "dtype: float64\n"
     ]
    }
   ],
   "source": [
    "print('Gross Profit :',df.groupby('Year')['total_sale'].sum()-df.groupby('Year')['cogs'].sum())"
   ]
  },
  {
   "cell_type": "code",
   "execution_count": 30,
   "id": "45f3002a-f6bb-4eac-bbda-d0ee3b93b0d3",
   "metadata": {},
   "outputs": [
    {
     "name": "stdout",
     "output_type": "stream",
     "text": [
      "Gross Profit Percentage = Year\n",
      "2022    78.818810\n",
      "2023    79.569771\n",
      "dtype: float64\n"
     ]
    }
   ],
   "source": [
    "print('Gross Profit Percentage :',(df.groupby('Year')['total_sale'].sum()-df.groupby('Year')['cogs'].sum())/df.groupby('Year')['total_sale'].sum()*100)"
   ]
  },
  {
   "cell_type": "code",
   "execution_count": 52,
   "id": "bdfd368b-e429-40c0-852d-4aa61c8f8938",
   "metadata": {},
   "outputs": [
    {
     "name": "stdout",
     "output_type": "stream",
     "text": [
      "Yoy% Sales : Year\n",
      "2022     NaN\n",
      "2023    0.02\n",
      "Name: total_sale, dtype: float64\n"
     ]
    }
   ],
   "source": [
    "print('Yoy% Sales :',round((sales_per_yr-sales_per_yr.shift(1))*1.0/sales_per_yr.shift(1),2))"
   ]
  },
  {
   "cell_type": "markdown",
   "id": "5cdb62e5-1f50-4f7a-bccf-cb7c6663398c",
   "metadata": {},
   "source": [
    "### *Sales Value by grew by a modest 2% yoy.*"
   ]
  },
  {
   "cell_type": "code",
   "execution_count": 58,
   "id": "942a2a20-f4e8-40b1-a3f3-730c92f56024",
   "metadata": {},
   "outputs": [
    {
     "name": "stdout",
     "output_type": "stream",
     "text": [
      "Total Quantity Sold = 4995\n"
     ]
    }
   ],
   "source": [
    "print('Total Quantity Sold =',round(df['quantiy'].sum()))"
   ]
  },
  {
   "cell_type": "code",
   "execution_count": 61,
   "id": "bde97a0c-c749-4d0e-981d-25839242bcea",
   "metadata": {},
   "outputs": [
    {
     "name": "stdout",
     "output_type": "stream",
     "text": [
      "Quantity Per  Year\n",
      "2023    2554.0\n",
      "2022    2441.0\n",
      "Name: quantiy, dtype: float64\n"
     ]
    }
   ],
   "source": [
    "print('Quantity Per ',round(df.groupby(['Year'])['quantiy'].sum().sort_values(ascending=False)))"
   ]
  },
  {
   "cell_type": "code",
   "execution_count": 70,
   "id": "89870b3b-75d9-4309-965d-dc2f503eebac",
   "metadata": {},
   "outputs": [],
   "source": [
    "qty=round(df.groupby(['Year'])['quantiy'].sum())"
   ]
  },
  {
   "cell_type": "code",
   "execution_count": 77,
   "id": "73cf7c01-51e4-43fa-85c6-8e63493da37e",
   "metadata": {},
   "outputs": [
    {
     "name": "stdout",
     "output_type": "stream",
     "text": [
      "Yoy% Quantity Year\n",
      "2022     NaN\n",
      "2023    0.05\n",
      "Name: quantiy, dtype: float64\n"
     ]
    }
   ],
   "source": [
    "print('Yoy% Quantity',round((qty-qty.shift(1))*1.0/qty.shift(1),2))"
   ]
  },
  {
   "cell_type": "markdown",
   "id": "d3c69bbf-46a3-4720-898c-7f893a67449e",
   "metadata": {},
   "source": [
    "### ***Quantities sold grew by 5% from 2022.This was due to an increase in sales of clothing and electronics.***"
   ]
  },
  {
   "cell_type": "code",
   "execution_count": 78,
   "id": "62551ab3-0530-4d94-a8c1-131c3b0228de",
   "metadata": {},
   "outputs": [
    {
     "name": "stdout",
     "output_type": "stream",
     "text": [
      "Quantity Per category Year  category   \n",
      "2023  Clothing       937.0\n",
      "      Electronics    858.0\n",
      "2022  Clothing       843.0\n",
      "      Electronics    824.0\n",
      "      Beauty         774.0\n",
      "2023  Beauty         759.0\n",
      "Name: quantiy, dtype: float64\n"
     ]
    }
   ],
   "source": [
    "print('Quantity Per category',df.groupby(['Year','category'])['quantiy'].sum().sort_values(ascending=False))"
   ]
  },
  {
   "cell_type": "markdown",
   "id": "f3cf1111-06ce-4f99-b20a-6cbdea1f40dd",
   "metadata": {},
   "source": [
    "### *This displays the increase in clothing and electronics*"
   ]
  },
  {
   "cell_type": "code",
   "execution_count": 83,
   "id": "3b686b08-9426-4fb9-afbc-2fa6a312a601",
   "metadata": {},
   "outputs": [
    {
     "name": "stdout",
     "output_type": "stream",
     "text": [
      "Sales by age cohort  Year  age \n",
      "2023  47.0    97.0\n",
      "2022  43.0    89.0\n",
      "2023  43.0    89.0\n",
      "Name: quantiy, dtype: float64\n"
     ]
    }
   ],
   "source": [
    "print('Quantities Sold by age cohort ',df.groupby(['Year','age'])['quantiy'].sum().sort_values(ascending=False).nlargest(3))"
   ]
  },
  {
   "cell_type": "code",
   "execution_count": 84,
   "id": "c7d72889-5f9a-44d3-a639-0c5d58b5d08d",
   "metadata": {},
   "outputs": [
    {
     "name": "stdout",
     "output_type": "stream",
     "text": [
      "Sales by age cohort  Year  age \n",
      "2022  19.0    23040.0\n",
      "      26.0    19705.0\n",
      "      43.0    19480.0\n",
      "Name: total_sale, dtype: float64\n"
     ]
    }
   ],
   "source": [
    "print('Sales by age cohort ',df.groupby(['Year','age'])['total_sale'].sum().sort_values(ascending=False).nlargest(3))"
   ]
  },
  {
   "cell_type": "markdown",
   "id": "0ec4b3c0-c6f7-4f49-8017-52441ec4bc71",
   "metadata": {},
   "source": [
    "### *The quantity sold by age cohort were far higher in the middle aged cohort,which might suggest that the younger age group are purchasing high priced items,since value wise they are far outsrip the middle aged cohort.This suggests that the younger age cohort is attracted to electronics far more than their older cohorts.The middle aged cohort would purchase more clothing and beauty products.*"
   ]
  },
  {
   "cell_type": "code",
   "execution_count": 93,
   "id": "dc434b63-72ca-456d-8546-d1a38a57625b",
   "metadata": {},
   "outputs": [
    {
     "name": "stdout",
     "output_type": "stream",
     "text": [
      "Sales by   gender\n",
      "Female    463110.0\n",
      "Male      445120.0\n",
      "Name: total_sale, dtype: float64\n"
     ]
    }
   ],
   "source": [
    "print('Sales by  ',df.groupby('gender')['total_sale'].sum())"
   ]
  },
  {
   "cell_type": "code",
   "execution_count": 96,
   "id": "3d4ef449-7809-4033-a783-9957c3d655a8",
   "metadata": {},
   "outputs": [
    {
     "name": "stdout",
     "output_type": "stream",
     "text": [
      "Quantities by  gender\n",
      "Female    2573.0\n",
      "Male      2422.0\n",
      "Name: quantiy, dtype: float64\n"
     ]
    }
   ],
   "source": [
    "print('Quantities by ',df.groupby('gender')['quantiy'].sum())"
   ]
  },
  {
   "cell_type": "code",
   "execution_count": 97,
   "id": "6407af40-edf2-4218-a20a-3076db7ed7f8",
   "metadata": {},
   "outputs": [
    {
     "name": "stdout",
     "output_type": "stream",
     "text": [
      "Quantities by  gender  category   \n",
      "Female  Beauty         829.0\n",
      "        Clothing       879.0\n",
      "        Electronics    865.0\n",
      "Male    Beauty         704.0\n",
      "        Clothing       901.0\n",
      "        Electronics    817.0\n",
      "Name: quantiy, dtype: float64\n"
     ]
    }
   ],
   "source": [
    "print('Quantities by ',df.groupby(['gender','category'])['quantiy'].sum())"
   ]
  },
  {
   "cell_type": "markdown",
   "id": "b04abf7b-41e1-42f7-8a46-03166103926a",
   "metadata": {},
   "source": [
    "### *Women spend slightly more than their male counterparts but there arent any significant differences*"
   ]
  },
  {
   "cell_type": "code",
   "execution_count": 86,
   "id": "4b7be1ce-0853-4c06-8cf8-0bc6f23a6413",
   "metadata": {},
   "outputs": [
    {
     "name": "stdout",
     "output_type": "stream",
     "text": [
      "Total Cogs by category  Year  category   \n",
      "2023  Electronics    35598.30\n",
      "2022  Beauty         33131.25\n",
      "2023  Clothing       33085.65\n",
      "2022  Electronics    31079.15\n",
      "      Clothing       30964.10\n",
      "2023  Beauty         25069.35\n",
      "Name: cogs, dtype: float64\n"
     ]
    }
   ],
   "source": [
    "print('Total Cogs by category ',df.groupby(['Year','category'])['cogs'].sum().sort_values(ascending=False))"
   ]
  },
  {
   "cell_type": "code",
   "execution_count": 87,
   "id": "9fad4407-8675-4fef-a3ba-34bf10aa04ce",
   "metadata": {},
   "outputs": [
    {
     "name": "stdout",
     "output_type": "stream",
     "text": [
      "Top 5 Customers Year  customer_id\n",
      "2023  3              193.0\n",
      "      1              170.0\n",
      "      4              161.0\n",
      "      5              145.0\n",
      "      2              133.0\n",
      "Name: quantiy, dtype: float64\n"
     ]
    }
   ],
   "source": [
    "print('Top 5 Customers by Quantity',df.groupby(['Year','customer_id'])['quantiy'].sum().nlargest(5))"
   ]
  },
  {
   "cell_type": "code",
   "execution_count": 89,
   "id": "939167f1-f45f-4795-8b49-cae6b1ee3dd0",
   "metadata": {},
   "outputs": [
    {
     "name": "stdout",
     "output_type": "stream",
     "text": [
      "Top 5 Customers Rand Value Year  customer_id\n",
      "2023  3              35380.0\n",
      "      5              28095.0\n",
      "      1              27180.0\n",
      "      4              23220.0\n",
      "      2              21525.0\n",
      "Name: total_sale, dtype: float64\n"
     ]
    }
   ],
   "source": [
    "print('Top 5 Customers Rand Value',df.groupby(['Year','customer_id'])['total_sale'].sum().nlargest(5))"
   ]
  },
  {
   "cell_type": "code",
   "execution_count": 90,
   "id": "59e7a9e5-9c88-4423-8659-07ccd9283589",
   "metadata": {},
   "outputs": [
    {
     "name": "stdout",
     "output_type": "stream",
     "text": [
      "Top 5 largest sales by year and month = Year  Month\n",
      "2022  12       71880.0\n",
      "2023  12       69145.0\n",
      "2022  11       68915.0\n",
      "      10       67735.0\n",
      "2023  9        67560.0\n",
      "Name: total_sale, dtype: float64\n"
     ]
    }
   ],
   "source": [
    "print('Top 5 largest sales by year and month =',df.groupby(['Year','Month'])['total_sale'].sum().sort_values(ascending=False).nlargest(5))"
   ]
  },
  {
   "cell_type": "markdown",
   "id": "de38f9fe-874b-4347-a617-212a6b00fea6",
   "metadata": {},
   "source": [
    "### *The festive period is the most busiest period judging by the sales of the largest 5 months.*"
   ]
  },
  {
   "cell_type": "code",
   "execution_count": null,
   "id": "0a3fb345-4fcb-4787-bb76-03574dabecf7",
   "metadata": {},
   "outputs": [],
   "source": []
  },
  {
   "cell_type": "code",
   "execution_count": null,
   "id": "89827488-d43c-4951-8140-06e198ad4ca4",
   "metadata": {},
   "outputs": [],
   "source": []
  },
  {
   "cell_type": "code",
   "execution_count": null,
   "id": "8c5ca745-1155-496d-86f2-12f8960842dc",
   "metadata": {},
   "outputs": [],
   "source": []
  },
  {
   "cell_type": "code",
   "execution_count": null,
   "id": "8147f184-bcae-4df9-a27a-80b54f06b95a",
   "metadata": {},
   "outputs": [],
   "source": []
  },
  {
   "cell_type": "code",
   "execution_count": null,
   "id": "3188a462-4f0e-45d0-bc7a-d88de4e2cb9f",
   "metadata": {},
   "outputs": [],
   "source": []
  },
  {
   "cell_type": "code",
   "execution_count": null,
   "id": "6fe85c1f-5242-4b7a-aaf3-364ed86a22c4",
   "metadata": {},
   "outputs": [],
   "source": []
  },
  {
   "cell_type": "code",
   "execution_count": null,
   "id": "2ca53527-3226-44e5-9706-c6df11fa9b8d",
   "metadata": {},
   "outputs": [],
   "source": []
  },
  {
   "cell_type": "code",
   "execution_count": null,
   "id": "d1da6e17-c593-4633-93fa-37ecf6e8b028",
   "metadata": {},
   "outputs": [],
   "source": []
  },
  {
   "cell_type": "code",
   "execution_count": null,
   "id": "311bf4e9-6af0-462f-b066-70c17cbba729",
   "metadata": {},
   "outputs": [],
   "source": []
  },
  {
   "cell_type": "code",
   "execution_count": null,
   "id": "58ecb2c6-592e-4b3e-a3b2-0b29c4c9bcb2",
   "metadata": {},
   "outputs": [],
   "source": []
  },
  {
   "cell_type": "code",
   "execution_count": null,
   "id": "ae659ec8-392c-4d14-9bdc-69ebc863d334",
   "metadata": {},
   "outputs": [],
   "source": []
  },
  {
   "cell_type": "code",
   "execution_count": null,
   "id": "2c462f79-e3f2-433b-a00b-2fb89f266caa",
   "metadata": {},
   "outputs": [],
   "source": []
  },
  {
   "cell_type": "code",
   "execution_count": null,
   "id": "ddb7b686-68ea-417b-91ed-c05fdd6ba6a3",
   "metadata": {},
   "outputs": [],
   "source": []
  },
  {
   "cell_type": "code",
   "execution_count": null,
   "id": "9327066c-ebd2-4826-a561-1c5c49ba9630",
   "metadata": {},
   "outputs": [],
   "source": []
  },
  {
   "cell_type": "code",
   "execution_count": null,
   "id": "b5a72360-5b35-45f1-a268-414b7057a47d",
   "metadata": {},
   "outputs": [],
   "source": []
  },
  {
   "cell_type": "code",
   "execution_count": null,
   "id": "01720669-bcf3-4d10-9c5d-cc273a654929",
   "metadata": {},
   "outputs": [],
   "source": []
  },
  {
   "cell_type": "code",
   "execution_count": null,
   "id": "6960db95-283a-47c7-9578-424883e22382",
   "metadata": {},
   "outputs": [],
   "source": []
  },
  {
   "cell_type": "code",
   "execution_count": null,
   "id": "85d65330-7288-4599-8bc5-bad4da0d81f2",
   "metadata": {},
   "outputs": [],
   "source": []
  },
  {
   "cell_type": "code",
   "execution_count": null,
   "id": "005e764b-2538-41ad-b58b-0a8ec2d54bba",
   "metadata": {},
   "outputs": [],
   "source": []
  },
  {
   "cell_type": "code",
   "execution_count": null,
   "id": "d5d2cd3b-d9ee-4ef0-98fa-a62715c2f7a9",
   "metadata": {},
   "outputs": [],
   "source": []
  },
  {
   "cell_type": "code",
   "execution_count": null,
   "id": "b39a0357-89d7-439a-a94d-26e604e5988c",
   "metadata": {},
   "outputs": [],
   "source": []
  },
  {
   "cell_type": "code",
   "execution_count": null,
   "id": "008af48a-481b-4a7f-a316-d7a602beac11",
   "metadata": {},
   "outputs": [],
   "source": []
  },
  {
   "cell_type": "code",
   "execution_count": null,
   "id": "a588c8de-d41a-45db-ba49-bfa9015bc59f",
   "metadata": {},
   "outputs": [],
   "source": []
  },
  {
   "cell_type": "code",
   "execution_count": null,
   "id": "7253aa1f-bb91-4982-b1bc-a91e3294246a",
   "metadata": {},
   "outputs": [],
   "source": []
  },
  {
   "cell_type": "code",
   "execution_count": null,
   "id": "4f85da3e-1992-4477-9da8-96ba1c651bd5",
   "metadata": {},
   "outputs": [],
   "source": []
  },
  {
   "cell_type": "code",
   "execution_count": null,
   "id": "a6cd4a1c-5956-4951-916c-4d15fb7eef1f",
   "metadata": {},
   "outputs": [],
   "source": []
  },
  {
   "cell_type": "code",
   "execution_count": null,
   "id": "92ed3b1a-0836-41ed-8e4f-e2ce378dc534",
   "metadata": {},
   "outputs": [],
   "source": []
  },
  {
   "cell_type": "code",
   "execution_count": null,
   "id": "9ae994f3-deff-4642-820c-8233a14c2077",
   "metadata": {},
   "outputs": [],
   "source": []
  },
  {
   "cell_type": "code",
   "execution_count": null,
   "id": "5e5ec4f0-1096-48ff-a04c-55c9df6b09a9",
   "metadata": {},
   "outputs": [],
   "source": []
  },
  {
   "cell_type": "code",
   "execution_count": null,
   "id": "3741a349-f403-4c03-a551-ff752810dc14",
   "metadata": {},
   "outputs": [],
   "source": []
  },
  {
   "cell_type": "code",
   "execution_count": null,
   "id": "4968836c-f474-46f3-b2a4-468d725b0dd9",
   "metadata": {},
   "outputs": [],
   "source": []
  },
  {
   "cell_type": "code",
   "execution_count": null,
   "id": "f12ad4dc-e516-416f-9685-8699867b5737",
   "metadata": {},
   "outputs": [],
   "source": []
  },
  {
   "cell_type": "code",
   "execution_count": null,
   "id": "2c83c5ac-9d9c-4d95-973c-d0592c81f073",
   "metadata": {},
   "outputs": [],
   "source": []
  },
  {
   "cell_type": "code",
   "execution_count": null,
   "id": "d7e3b71e-a76d-4394-bb6e-c43898adab15",
   "metadata": {},
   "outputs": [],
   "source": []
  },
  {
   "cell_type": "code",
   "execution_count": null,
   "id": "681d1a51-aa37-402f-a3f9-c372cfc403f2",
   "metadata": {},
   "outputs": [],
   "source": []
  },
  {
   "cell_type": "code",
   "execution_count": null,
   "id": "385e5647-63e4-42d1-9469-639927fac8ab",
   "metadata": {},
   "outputs": [],
   "source": []
  },
  {
   "cell_type": "code",
   "execution_count": null,
   "id": "1c2c380c-cc0f-4359-a8fd-05aefa644288",
   "metadata": {},
   "outputs": [],
   "source": []
  },
  {
   "cell_type": "code",
   "execution_count": null,
   "id": "2fb05d70-0b4e-40a2-92aa-fc4365476f4a",
   "metadata": {},
   "outputs": [],
   "source": []
  },
  {
   "cell_type": "code",
   "execution_count": null,
   "id": "ce902c7f-0a81-4286-9eff-cb1504e4b260",
   "metadata": {},
   "outputs": [],
   "source": []
  },
  {
   "cell_type": "code",
   "execution_count": null,
   "id": "080c2a92-ae44-419b-a555-b1c1dfe6f51f",
   "metadata": {},
   "outputs": [],
   "source": []
  },
  {
   "cell_type": "code",
   "execution_count": null,
   "id": "92e58290-f455-41d5-b258-c647065b79c3",
   "metadata": {},
   "outputs": [],
   "source": []
  },
  {
   "cell_type": "code",
   "execution_count": null,
   "id": "6d54a3b2-a9f6-4734-9636-0060cf60e50e",
   "metadata": {},
   "outputs": [],
   "source": []
  },
  {
   "cell_type": "code",
   "execution_count": null,
   "id": "4a8b4687-2084-4939-9284-85f8e1d342c2",
   "metadata": {},
   "outputs": [],
   "source": []
  },
  {
   "cell_type": "code",
   "execution_count": null,
   "id": "d8173ab0-4ccb-4261-ac57-7507292d81e5",
   "metadata": {},
   "outputs": [],
   "source": []
  },
  {
   "cell_type": "code",
   "execution_count": null,
   "id": "d009ad74-a5d1-489b-8a56-593cd9dd47e6",
   "metadata": {},
   "outputs": [],
   "source": []
  },
  {
   "cell_type": "code",
   "execution_count": null,
   "id": "f6452c98-c79e-4090-8df3-c1c03da985e9",
   "metadata": {},
   "outputs": [],
   "source": []
  },
  {
   "cell_type": "code",
   "execution_count": null,
   "id": "7bba97fc-bcf9-4711-91a8-6efecc8fa8d6",
   "metadata": {},
   "outputs": [],
   "source": []
  },
  {
   "cell_type": "code",
   "execution_count": null,
   "id": "16c36612-d7c4-4eb4-af28-718c84b464ea",
   "metadata": {},
   "outputs": [],
   "source": []
  },
  {
   "cell_type": "code",
   "execution_count": null,
   "id": "eddc9415-2518-4590-b617-0b155c07c207",
   "metadata": {},
   "outputs": [],
   "source": []
  },
  {
   "cell_type": "code",
   "execution_count": null,
   "id": "7a6e88f3-c4c9-4cb8-8bdd-757321dbda77",
   "metadata": {},
   "outputs": [],
   "source": []
  },
  {
   "cell_type": "code",
   "execution_count": null,
   "id": "569df4a9-1896-4de0-aa07-76cc8d2314c9",
   "metadata": {},
   "outputs": [],
   "source": []
  },
  {
   "cell_type": "code",
   "execution_count": null,
   "id": "4e4e4be2-75f4-457c-8701-c15aa46071bb",
   "metadata": {},
   "outputs": [],
   "source": []
  },
  {
   "cell_type": "code",
   "execution_count": null,
   "id": "bda5a7af-0544-473f-a0e8-5df241ef0ddc",
   "metadata": {},
   "outputs": [],
   "source": []
  },
  {
   "cell_type": "code",
   "execution_count": null,
   "id": "45ec8194-ce32-4c49-953b-af012a923577",
   "metadata": {},
   "outputs": [],
   "source": []
  },
  {
   "cell_type": "code",
   "execution_count": null,
   "id": "b9e5a142-5f9b-47f0-ae42-7f1b39f72d78",
   "metadata": {},
   "outputs": [],
   "source": []
  },
  {
   "cell_type": "code",
   "execution_count": null,
   "id": "ff4d51bb-a712-4070-a276-ec027f7aa663",
   "metadata": {},
   "outputs": [],
   "source": []
  },
  {
   "cell_type": "code",
   "execution_count": null,
   "id": "16f41ce5-3ebf-429d-b56e-0c3b88fe2f3d",
   "metadata": {},
   "outputs": [],
   "source": []
  },
  {
   "cell_type": "code",
   "execution_count": null,
   "id": "dc3026ab-8d8e-4074-8044-44ee1545e60a",
   "metadata": {},
   "outputs": [],
   "source": []
  },
  {
   "cell_type": "code",
   "execution_count": null,
   "id": "2d83e20f-d1db-4dbe-9078-56d657ed0182",
   "metadata": {},
   "outputs": [],
   "source": []
  },
  {
   "cell_type": "code",
   "execution_count": null,
   "id": "972997b9-d117-4ec1-8141-ddd221e4177e",
   "metadata": {},
   "outputs": [],
   "source": []
  },
  {
   "cell_type": "code",
   "execution_count": null,
   "id": "f12fc620-8758-43eb-8533-8fbf6a248cfa",
   "metadata": {},
   "outputs": [],
   "source": []
  },
  {
   "cell_type": "code",
   "execution_count": null,
   "id": "f6333dbf-00da-432c-a026-dff6bd337fd5",
   "metadata": {},
   "outputs": [],
   "source": []
  },
  {
   "cell_type": "code",
   "execution_count": null,
   "id": "4bc3a56e-27b9-4b84-aaab-cc39c0b46add",
   "metadata": {},
   "outputs": [],
   "source": []
  }
 ],
 "metadata": {
  "kernelspec": {
   "display_name": "Python 3 (ipykernel)",
   "language": "python",
   "name": "python3"
  },
  "language_info": {
   "codemirror_mode": {
    "name": "ipython",
    "version": 3
   },
   "file_extension": ".py",
   "mimetype": "text/x-python",
   "name": "python",
   "nbconvert_exporter": "python",
   "pygments_lexer": "ipython3",
   "version": "3.13.3"
  }
 },
 "nbformat": 4,
 "nbformat_minor": 5
}
